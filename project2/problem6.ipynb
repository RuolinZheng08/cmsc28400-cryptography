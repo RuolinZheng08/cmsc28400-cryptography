{
 "cells": [
  {
   "cell_type": "code",
   "execution_count": 2,
   "metadata": {},
   "outputs": [],
   "source": [
    "# %load symmetric_encryption.py\n",
    "#!/usr/bin/env/python3\n",
    "\n",
    "import urllib.request\n",
    "from Crypto.Cipher import AES\n",
    "import binascii\n",
    "import base64\n",
    "import random\n",
    "import os\n",
    "import zlib\n",
    "\n",
    "################################################################################\n",
    "# CS 284 Padding Utility Functions\n",
    "################################################################################\n",
    "\n",
    "# s is a bytearray to pad, k is blocklength\n",
    "# you won't need to change the block length\n",
    "def cmsc284pad(s,k=16):\n",
    "  if k > 255:\n",
    "    print(\"pkcs7pad: padding block length must be less than 256\")\n",
    "    return bytearray()\n",
    "  n = k - (len(s) % k)\n",
    "  if n == 0:\n",
    "    n = k\n",
    "  for i in range(1,n+1):\n",
    "    s.extend([i])\n",
    "  return s\n",
    "\n",
    "# s is bytes to pad, k is blocklength\n",
    "# you won't need to change the block length\n",
    "def cmsc284padbytes(s,k=16):\n",
    "  if k > 255:\n",
    "    raise Exception(\"pkcs7pad: padding block length must be less than 256\")\n",
    "  n = k - (len(s) % k)\n",
    "  if n == 0:\n",
    "    n = k\n",
    "  for i in range(1,n+1):\n",
    "    s += chr(i).encode(\"utf-8\")\n",
    "  return s\n",
    "\n",
    "# s is bytes to unpad, k is blocklength\n",
    "# you won't need to change the block length\n",
    "def cmsc284unpad(s,k=16):\n",
    "  if not cmsc284checkpadding(s,k):\n",
    "    print(\"cmsc284unpad: invalid padding\")\n",
    "    return b''\n",
    "  n = s[len(s)-1]\n",
    "  return s[:len(s)-n]\n",
    "\n",
    "# checks padding on s and returns a boolean\n",
    "# you won't need to change the block length\n",
    "def cmsc284checkpadding(s,k=16):\n",
    "  if(len(s) == 0):\n",
    "    #print(\"Invalid padding: String zero length\"%k) \n",
    "    return False\n",
    "  if(len(s)%k != 0): \n",
    "    #print(\"Invalid padding: String is not multiple of %d bytes\"%k) \n",
    "    return False\n",
    "  n = s[len(s)-1]\n",
    "  if n > k or n == 0:\n",
    "    return False\n",
    "  else: \n",
    "    for i in range(n):\n",
    "      if s[len(s)-1-i] != (n-i):\n",
    "        return False\n",
    "  return True\n",
    "\n",
    "################################################################################\n",
    "# Function for querying the server\n",
    "################################################################################\n",
    "\n",
    "PPS2SERVER = \"http://cryptoclass.cs.uchicago.edu/\"\n",
    "def make_query(task, cnetid, query):\n",
    "  DEBUG = False\n",
    "  if DEBUG:\n",
    "    print(\"making a query\")\n",
    "    print(\"Task:\", task)\n",
    "    print(\"CNET ID:\", cnetid)\n",
    "    print(\"Query:\", query)\n",
    "  if (type(query) is bytearray) or (type(query) is bytes):\n",
    "    url = PPS2SERVER + urllib.parse.quote_plus(task) + \"/\" + urllib.parse.quote_plus(cnetid) + \"/\" + urllib.parse.quote_plus(base64.urlsafe_b64encode(query)) + \"/\"\n",
    "  else:\n",
    "    url = PPS2SERVER + urllib.parse.quote_plus(task) + \"/\" + urllib.parse.quote_plus(cnetid) + \"/\" + urllib.parse.quote_plus(base64.urlsafe_b64encode(query.encode('utf-8'))) + \"/\"\n",
    "  if DEBUG:\n",
    "    print(\"Querying:\", url)\n",
    "\n",
    "  with urllib.request.urlopen(url) as response:\n",
    "    raw_answer = response.read()\n",
    "    answer = base64.urlsafe_b64decode(raw_answer)\n",
    "    if DEBUG:\n",
    "      print(\"Answer:\", answer)\n",
    "    return answer\n",
    "  return None\n",
    "\n",
    "\n",
    "################################################################################\n",
    "# Problem 1 SOLUTION\n",
    "################################################################################\n",
    "\n",
    "def problem1(cnetid):\n",
    "  return b''\n",
    "\n",
    "\n",
    "################################################################################\n",
    "# Problem 2 SOLUTION\n",
    "################################################################################\n",
    "\n",
    "def problem2(cnetid):\n",
    "  return b''\n",
    "\n",
    "\n",
    "################################################################################\n",
    "# Problem 3 SOLUTION\n",
    "################################################################################\n",
    "\n",
    "def problem3(cnetid):\n",
    "  return b''\n",
    "\n",
    "\n",
    "################################################################################\n",
    "# Problem 4 SOLUTION\n",
    "################################################################################\n",
    "\n",
    "def problem4(cnetid):\n",
    "  return b''\n",
    "\n",
    "\n",
    "################################################################################\n",
    "# Problem 5 SOLUTION\n",
    "################################################################################\n",
    "\n",
    "def problem5(cnetid):\n",
    "  return b''\n",
    "\n",
    "################################################################################\n",
    "# Problem 6 SOLUTION\n",
    "################################################################################\n",
    "\n",
    "def problem6(cnetid):\n",
    "  return b''"
   ]
  },
  {
   "cell_type": "code",
   "execution_count": 10,
   "metadata": {},
   "outputs": [
    {
     "data": {
      "text/plain": [
       "19"
      ]
     },
     "execution_count": 10,
     "metadata": {},
     "output_type": "execute_result"
    }
   ],
   "source": [
    "len('password=;userdata=')"
   ]
  },
  {
   "cell_type": "code",
   "execution_count": 8,
   "metadata": {},
   "outputs": [
    {
     "data": {
      "text/plain": [
       "59"
      ]
     },
     "execution_count": 8,
     "metadata": {},
     "output_type": "execute_result"
    }
   ],
   "source": [
    "ctext = make_query('six', 'ruolinzheng', '')\n",
    "len(ctext)"
   ]
  },
  {
   "cell_type": "code",
   "execution_count": 11,
   "metadata": {},
   "outputs": [],
   "source": [
    "flag_len = len(ctext) - len('password=;userdata=') # 40 * 256"
   ]
  },
  {
   "cell_type": "code",
   "execution_count": null,
   "metadata": {},
   "outputs": [],
   "source": []
  }
 ],
 "metadata": {
  "kernelspec": {
   "display_name": "Python 3",
   "language": "python",
   "name": "python3"
  },
  "language_info": {
   "codemirror_mode": {
    "name": "ipython",
    "version": 3
   },
   "file_extension": ".py",
   "mimetype": "text/x-python",
   "name": "python",
   "nbconvert_exporter": "python",
   "pygments_lexer": "ipython3",
   "version": "3.7.0"
  }
 },
 "nbformat": 4,
 "nbformat_minor": 2
}
