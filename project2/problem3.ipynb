{
 "cells": [
  {
   "cell_type": "code",
   "execution_count": 1,
   "metadata": {},
   "outputs": [],
   "source": [
    "# %load symmetric_encryption.py\n",
    "#!/usr/bin/env/python3\n",
    "\n",
    "import urllib.request\n",
    "from Crypto.Cipher import AES\n",
    "import binascii\n",
    "import base64\n",
    "import random\n",
    "import os\n",
    "import zlib\n",
    "\n",
    "################################################################################\n",
    "# CS 284 Padding Utility Functions\n",
    "################################################################################\n",
    "\n",
    "# s is a bytearray to pad, k is blocklength\n",
    "# you won't need to change the block length\n",
    "def cmsc284pad(s,k=16):\n",
    "  if k > 255:\n",
    "    print(\"pkcs7pad: padding block length must be less than 256\")\n",
    "    return bytearray()\n",
    "  n = k - (len(s) % k)\n",
    "  if n == 0:\n",
    "    n = k\n",
    "  for i in range(1,n+1):\n",
    "    s.extend([i])\n",
    "  return s\n",
    "\n",
    "# s is bytes to pad, k is blocklength\n",
    "# you won't need to change the block length\n",
    "def cmsc284padbytes(s,k=16):\n",
    "  if k > 255:\n",
    "    raise Exception(\"pkcs7pad: padding block length must be less than 256\")\n",
    "  n = k - (len(s) % k)\n",
    "  if n == 0:\n",
    "    n = k\n",
    "  for i in range(1,n+1):\n",
    "    s += chr(i).encode(\"utf-8\")\n",
    "  return s\n",
    "\n",
    "# s is bytes to unpad, k is blocklength\n",
    "# you won't need to change the block length\n",
    "def cmsc284unpad(s,k=16):\n",
    "  if not cmsc284checkpadding(s,k):\n",
    "    print(\"cmsc284unpad: invalid padding\")\n",
    "    return b''\n",
    "  n = s[len(s)-1]\n",
    "  return s[:len(s)-n]\n",
    "\n",
    "# checks padding on s and returns a boolean\n",
    "# you won't need to change the block length\n",
    "def cmsc284checkpadding(s,k=16):\n",
    "  if(len(s) == 0):\n",
    "    #print(\"Invalid padding: String zero length\"%k) \n",
    "    return False\n",
    "  if(len(s)%k != 0): \n",
    "    #print(\"Invalid padding: String is not multiple of %d bytes\"%k) \n",
    "    return False\n",
    "  n = s[len(s)-1]\n",
    "  if n > k or n == 0:\n",
    "    return False\n",
    "  else: \n",
    "    for i in range(n):\n",
    "      if s[len(s)-1-i] != (n-i):\n",
    "        return False\n",
    "  return True\n",
    "\n",
    "################################################################################\n",
    "# Function for querying the server\n",
    "################################################################################\n",
    "\n",
    "PPS2SERVER = \"http://cryptoclass.cs.uchicago.edu/\"\n",
    "def make_query(task, cnetid, query):\n",
    "  DEBUG = False\n",
    "  if DEBUG:\n",
    "    print(\"making a query\")\n",
    "    print(\"Task:\", task)\n",
    "    print(\"CNET ID:\", cnetid)\n",
    "    print(\"Query:\", query)\n",
    "  if (type(query) is bytearray) or (type(query) is bytes):\n",
    "    url = PPS2SERVER + urllib.parse.quote_plus(task) + \"/\" + urllib.parse.quote_plus(cnetid) + \"/\" + urllib.parse.quote_plus(base64.urlsafe_b64encode(query)) + \"/\"\n",
    "  else:\n",
    "    url = PPS2SERVER + urllib.parse.quote_plus(task) + \"/\" + urllib.parse.quote_plus(cnetid) + \"/\" + urllib.parse.quote_plus(base64.urlsafe_b64encode(query.encode('utf-8'))) + \"/\"\n",
    "  if DEBUG:\n",
    "    print(\"Querying:\", url)\n",
    "\n",
    "  with urllib.request.urlopen(url) as response:\n",
    "    raw_answer = response.read()\n",
    "    answer = base64.urlsafe_b64decode(raw_answer)\n",
    "    if DEBUG:\n",
    "      print(\"Answer:\", answer)\n",
    "    return answer\n",
    "  return None\n",
    "\n",
    "\n",
    "################################################################################\n",
    "# Problem 1 SOLUTION\n",
    "################################################################################\n",
    "\n",
    "def problem1(cnetid):\n",
    "  return b''\n",
    "\n",
    "\n",
    "################################################################################\n",
    "# Problem 2 SOLUTION\n",
    "################################################################################\n",
    "\n",
    "def problem2(cnetid):\n",
    "  return b''\n",
    "\n",
    "\n",
    "################################################################################\n",
    "# Problem 3 SOLUTION\n",
    "################################################################################\n",
    "\n",
    "def problem3(cnetid):\n",
    "  return b''\n",
    "\n",
    "\n",
    "################################################################################\n",
    "# Problem 4 SOLUTION\n",
    "################################################################################\n",
    "\n",
    "def problem4(cnetid):\n",
    "  return b''\n",
    "\n",
    "\n",
    "################################################################################\n",
    "# Problem 5 SOLUTION\n",
    "################################################################################\n",
    "\n",
    "def problem5(cnetid):\n",
    "  return b''\n",
    "\n",
    "################################################################################\n",
    "# Problem 6 SOLUTION\n",
    "################################################################################\n",
    "\n",
    "def problem6(cnetid):\n",
    "  return b''"
   ]
  },
  {
   "cell_type": "code",
   "execution_count": 2,
   "metadata": {},
   "outputs": [],
   "source": [
    "from collections import Counter\n",
    "import math"
   ]
  },
  {
   "cell_type": "markdown",
   "metadata": {},
   "source": [
    "Clean version"
   ]
  },
  {
   "cell_type": "code",
   "execution_count": 3,
   "metadata": {},
   "outputs": [],
   "source": [
    "def get_flag_len(cnetid):\n",
    "  \"\"\"get unpadded flag len\"\"\"\n",
    "  padded_flag_len = len(make_query('three', cnetid, ''))\n",
    "  flag_len = -1\n",
    "  prev = -1\n",
    "  for i in range(1, 17):\n",
    "    curr = len(make_query('three', cnetid, bytes(i)))\n",
    "    if prev == padded_flag_len and curr == padded_flag_len + 16:\n",
    "      flag_len = padded_flag_len - i\n",
    "      break\n",
    "    prev = curr\n",
    "  return flag_len"
   ]
  },
  {
   "cell_type": "code",
   "execution_count": 5,
   "metadata": {},
   "outputs": [
    {
     "data": {
      "text/plain": [
       "(37, 64, 80)"
      ]
     },
     "execution_count": 5,
     "metadata": {},
     "output_type": "execute_result"
    }
   ],
   "source": [
    "# sanity check, 64 - 37 = 27\n",
    "get_flag_len('davidcash'), \\\n",
    "len(make_query('three', 'davidcash', bytes(26))), \\\n",
    "len(make_query('three', 'davidcash', bytes(27)))"
   ]
  },
  {
   "cell_type": "code",
   "execution_count": 20,
   "metadata": {},
   "outputs": [],
   "source": [
    "def get_byte_map(prev_bytes):\n",
    "  # should feed this function prev_bytes[:16]\n",
    "  if len(prev_bytes) > 16:\n",
    "    raise\n",
    "  mp = {}\n",
    "  for i in range(256):\n",
    "    query_bytes = bytes([i]) + prev_bytes\n",
    "    query = cmsc284padbytes(query_bytes)\n",
    "    ctext = make_query('three', 'ruolinzheng', query)\n",
    "    # always only need the first block\n",
    "    mp[ctext[:16]] = query_bytes\n",
    "  return mp"
   ]
  },
  {
   "cell_type": "code",
   "execution_count": 21,
   "metadata": {},
   "outputs": [],
   "source": [
    "def get_block_loc(flag_len):\n",
    "  \"\"\"get start pos of the target block\"\"\"\n",
    "  block_idx = math.ceil((flag_len - 1) / 16)\n",
    "  start = 16 * block_idx\n",
    "  return start"
   ]
  },
  {
   "cell_type": "code",
   "execution_count": 22,
   "metadata": {},
   "outputs": [],
   "source": [
    "def get_first_query_len(flag_len):\n",
    "  \"\"\"get the length of the first query, [1, 16]\"\"\"\n",
    "  return (16 - (flag_len - 1) % 16) % 16"
   ]
  },
  {
   "cell_type": "code",
   "execution_count": 23,
   "metadata": {},
   "outputs": [
    {
     "data": {
      "text/plain": [
       "(32, 2, 32, 0, 48, 12)"
      ]
     },
     "execution_count": 23,
     "metadata": {},
     "output_type": "execute_result"
    }
   ],
   "source": [
    "get_block_loc(31), get_first_query_len(31), \\\n",
    "get_block_loc(33), get_first_query_len(33), \\\n",
    "get_block_loc(37), get_first_query_len(37)"
   ]
  },
  {
   "cell_type": "code",
   "execution_count": 25,
   "metadata": {},
   "outputs": [],
   "source": [
    "def get_flag(cnetid):\n",
    "  flag_len = get_flag_len(cnetid)\n",
    "  start = get_block_loc(flag_len)\n",
    "  first_query_len = get_first_query_len(flag_len)\n",
    "  print('flag len, start, first_query_len:',\n",
    "        flag_len, start, first_query_len)\n",
    "  prev_bytes = b''\n",
    "  for i in range(flag_len):\n",
    "    byte_mp = get_byte_map(prev_bytes[:16])\n",
    "    query = bytes(first_query_len + len(prev_bytes))\n",
    "    ctext = make_query('three', cnetid, query)\n",
    "    new_bytes = byte_mp[ctext[start : start + 16]]\n",
    "    prev_bytes = bytes([new_bytes[0]]) + prev_bytes\n",
    "    print(i, prev_bytes)\n",
    "  return prev_bytes"
   ]
  },
  {
   "cell_type": "code",
   "execution_count": 26,
   "metadata": {
    "scrolled": false
   },
   "outputs": [
    {
     "name": "stdout",
     "output_type": "stream",
     "text": [
      "flag len, start, first_query_len: 34 48 15\n",
      "0 b'n'\n",
      "1 b'an'\n",
      "2 b'man'\n",
      "3 b' man'\n",
      "4 b'a man'\n",
      "5 b' a man'\n",
      "6 b'f a man'\n",
      "7 b'of a man'\n",
      "8 b' of a man'\n",
      "9 b'o of a man'\n",
      "10 b'to of a man'\n",
      "11 b'tto of a man'\n",
      "12 b'etto of a man'\n",
      "13 b'uetto of a man'\n",
      "14 b'ouetto of a man'\n",
      "15 b'houetto of a man'\n",
      "16 b'lhouetto of a man'\n",
      "17 b'ilhouetto of a man'\n",
      "18 b'silhouetto of a man'\n",
      "19 b' silhouetto of a man'\n",
      "20 b'e silhouetto of a man'\n",
      "21 b'le silhouetto of a man'\n",
      "22 b'tle silhouetto of a man'\n",
      "23 b'ttle silhouetto of a man'\n",
      "24 b'ittle silhouetto of a man'\n",
      "25 b'little silhouetto of a man'\n",
      "26 b' little silhouetto of a man'\n",
      "27 b'a little silhouetto of a man'\n",
      "28 b' a little silhouetto of a man'\n",
      "29 b'e a little silhouetto of a man'\n",
      "30 b'ee a little silhouetto of a man'\n",
      "31 b'see a little silhouetto of a man'\n",
      "32 b' see a little silhouetto of a man'\n",
      "33 b'I see a little silhouetto of a man'\n"
     ]
    },
    {
     "data": {
      "text/plain": [
       "b'I see a little silhouetto of a man'"
      ]
     },
     "execution_count": 26,
     "metadata": {},
     "output_type": "execute_result"
    }
   ],
   "source": [
    "get_flag('ffalzon')"
   ]
  },
  {
   "cell_type": "markdown",
   "metadata": {},
   "source": [
    "Scratch"
   ]
  },
  {
   "cell_type": "code",
   "execution_count": 3,
   "metadata": {},
   "outputs": [],
   "source": [
    "# get padded FLAG len\n",
    "padded_flag_len = len(make_query('three', 'ruolinzheng', ''))"
   ]
  },
  {
   "cell_type": "code",
   "execution_count": 4,
   "metadata": {},
   "outputs": [
    {
     "data": {
      "text/plain": [
       "48"
      ]
     },
     "execution_count": 4,
     "metadata": {},
     "output_type": "execute_result"
    }
   ],
   "source": [
    "padded_flag_len"
   ]
  },
  {
   "cell_type": "code",
   "execution_count": 5,
   "metadata": {},
   "outputs": [
    {
     "data": {
      "text/plain": [
       "(48, 64)"
      ]
     },
     "execution_count": 5,
     "metadata": {},
     "output_type": "execute_result"
    }
   ],
   "source": [
    "# determine unpadded FLAG len, [padded_flag_len - 16, padded_flag_len - 1]\n",
    "len(make_query('three', 'ruolinzheng', bytes(14))), \\\n",
    "len(make_query('three', 'ruolinzheng', bytes(15)))"
   ]
  },
  {
   "cell_type": "code",
   "execution_count": 6,
   "metadata": {},
   "outputs": [
    {
     "name": "stdout",
     "output_type": "stream",
     "text": [
      "FLAG length 33\n"
     ]
    }
   ],
   "source": [
    "# bytes(16) || FLAG is either padded_flag_len or padded_flag_len + 16\n",
    "prev = -1\n",
    "for i in range(1, 17):\n",
    "  curr = len(make_query('three', 'ruolinzheng', bytes(i)))\n",
    "  if prev == padded_flag_len and curr == padded_flag_len + 16:\n",
    "    print('FLAG length', padded_flag_len - i)\n",
    "    break\n",
    "  prev = curr"
   ]
  },
  {
   "cell_type": "code",
   "execution_count": 7,
   "metadata": {},
   "outputs": [],
   "source": [
    "# unpadded FLAG len 33\n",
    "flag_len = 33"
   ]
  },
  {
   "cell_type": "code",
   "execution_count": 40,
   "metadata": {},
   "outputs": [],
   "source": [
    "# manipulate query content to get 1 byte || 15 byte-pad mapping\n",
    "mp = {}\n",
    "for i in range(256):\n",
    "  one_byte = bytes([i])\n",
    "  query = cmsc284padbytes(one_byte)\n",
    "  ctext = make_query('three', 'ruolinzheng', query)\n",
    "  # len(ctext) is 64, three blocks, need first block\n",
    "  mp[ctext[:16]] = one_byte"
   ]
  },
  {
   "cell_type": "code",
   "execution_count": 47,
   "metadata": {
    "scrolled": false
   },
   "outputs": [
    {
     "data": {
      "text/plain": [
       "b' '"
      ]
     },
     "execution_count": 47,
     "metadata": {},
     "output_type": "execute_result"
    }
   ],
   "source": [
    "# manipulate len of query to push last byte of FLAG to its own block\n",
    "ctext = make_query('three', 'ruolinzheng', '')\n",
    "# len 48, 3 blocks, need last block\n",
    "mp[ctext[-16:]] # last byte of FLAG"
   ]
  },
  {
   "cell_type": "code",
   "execution_count": 52,
   "metadata": {},
   "outputs": [],
   "source": [
    "# second-to-last byte of FLAG\n",
    "mp = {}\n",
    "for i in range(256):\n",
    "  two_bytes = bytes([i]) + b' '\n",
    "  query = cmsc284padbytes(two_bytes)\n",
    "  ctext = make_query('three', 'ruolinzheng', query)\n",
    "  # len(ctext) is 64, three blocks, need first block\n",
    "  mp[ctext[:16]] = two_bytes"
   ]
  },
  {
   "cell_type": "code",
   "execution_count": 58,
   "metadata": {},
   "outputs": [
    {
     "data": {
      "text/plain": [
       "b'f '"
      ]
     },
     "execution_count": 58,
     "metadata": {},
     "output_type": "execute_result"
    }
   ],
   "source": [
    "ctext = make_query('three', 'ruolinzheng', bytes(1))\n",
    "# len 48, 3 blocks, need last block\n",
    "mp[ctext[-16:]] # last byte of FLAG"
   ]
  },
  {
   "cell_type": "code",
   "execution_count": 32,
   "metadata": {},
   "outputs": [],
   "source": [
    "def get_byte(prev_bytes):\n",
    "  # should feed this function prev_bytes[:16]\n",
    "  mp = {}\n",
    "  for i in range(256):\n",
    "    query_bytes = bytes([i]) + prev_bytes\n",
    "    query = cmsc284padbytes(query_bytes)\n",
    "    ctext = make_query('three', 'ruolinzheng', query)\n",
    "    # len(ctext) is 64, three blocks, need first block\n",
    "    mp[ctext[:16]] = query_bytes\n",
    "  ctext = make_query('three', 'ruolinzheng', bytes(len(prev_bytes)))\n",
    "  return mp[ctext[-16:]]"
   ]
  },
  {
   "cell_type": "code",
   "execution_count": 33,
   "metadata": {},
   "outputs": [
    {
     "name": "stdout",
     "output_type": "stream",
     "text": [
      "0 b' '\n",
      "1 b'f '\n",
      "2 b'lf '\n",
      "3 b'elf '\n",
      "4 b'self '\n",
      "5 b'yself '\n",
      "6 b'myself '\n",
      "7 b' myself '\n",
      "8 b'l myself '\n",
      "9 b'el myself '\n",
      "10 b'uel myself '\n",
      "11 b'fuel myself '\n",
      "12 b' fuel myself '\n",
      "13 b'e fuel myself '\n",
      "14 b'le fuel myself '\n"
     ]
    }
   ],
   "source": [
    "# retrieve first block\n",
    "prev_bytes = b''\n",
    "for i in range(15):\n",
    "  prev_bytes = get_byte(prev_bytes)\n",
    "  print(i, prev_bytes)"
   ]
  },
  {
   "cell_type": "code",
   "execution_count": 30,
   "metadata": {
    "scrolled": false
   },
   "outputs": [
    {
     "data": {
      "text/plain": [
       "15"
      ]
     },
     "execution_count": 30,
     "metadata": {},
     "output_type": "execute_result"
    }
   ],
   "source": [
    "len(b'le fuel myself ') # first block"
   ]
  },
  {
   "cell_type": "code",
   "execution_count": 67,
   "metadata": {},
   "outputs": [],
   "source": [
    "# second block\n",
    "def get_byte_map(prev_bytes):\n",
    "  # should feed this function prev_bytes[:16]\n",
    "  mp = {}\n",
    "  for i in range(256):\n",
    "    query_bytes = bytes([i]) + prev_bytes\n",
    "    query = cmsc284padbytes(query_bytes)\n",
    "    ctext = make_query('three', 'ruolinzheng', query)\n",
    "    # always only need the first block\n",
    "    mp[ctext[:16]] = query_bytes\n",
    "  return mp"
   ]
  },
  {
   "cell_type": "code",
   "execution_count": 64,
   "metadata": {},
   "outputs": [
    {
     "name": "stdout",
     "output_type": "stream",
     "text": [
      "32 80\n"
     ]
    }
   ],
   "source": [
    "prev_bytes = b'le fuel myself '\n",
    "byte_mp = get_byte_map(prev_bytes)"
   ]
  },
  {
   "cell_type": "code",
   "execution_count": 48,
   "metadata": {},
   "outputs": [
    {
     "data": {
      "text/plain": [
       "b'tle fuel myself '"
      ]
     },
     "execution_count": 48,
     "metadata": {},
     "output_type": "execute_result"
    }
   ],
   "source": [
    "ctext = make_query('three', 'ruolinzheng', bytes(len(prev_bytes)))\n",
    "# now 64 bytes b/c padding, 4 blocks, need entire 3rd block\n",
    "prev_bytes = byte_mp[ctext[32:48]]\n",
    "prev_bytes"
   ]
  },
  {
   "cell_type": "code",
   "execution_count": 52,
   "metadata": {},
   "outputs": [
    {
     "data": {
      "text/plain": [
       "b'ttle fuel myself '"
      ]
     },
     "execution_count": 52,
     "metadata": {},
     "output_type": "execute_result"
    }
   ],
   "source": [
    "byte_mp = get_byte_map(prev_bytes[:16])\n",
    "ctext = make_query('three', 'ruolinzheng', bytes(len(prev_bytes)))\n",
    "prev_bytes = byte_mp[ctext[32:48]]\n",
    "prev_bytes"
   ]
  },
  {
   "cell_type": "code",
   "execution_count": 66,
   "metadata": {},
   "outputs": [
    {
     "name": "stdout",
     "output_type": "stream",
     "text": [
      "32 80\n"
     ]
    },
    {
     "data": {
      "text/plain": [
       "(b'ittle fuel myself', b'ttle fuel myself ')"
      ]
     },
     "execution_count": 66,
     "metadata": {},
     "output_type": "execute_result"
    }
   ],
   "source": [
    "byte_mp = get_byte_map(prev_bytes[:16])\n",
    "ctext = make_query('three', 'ruolinzheng', bytes(len(prev_bytes)))\n",
    "new_bytes = byte_mp[ctext[32:48]]\n",
    "new_bytes, prev_bytes # need to concatenate these two"
   ]
  },
  {
   "cell_type": "code",
   "execution_count": 70,
   "metadata": {},
   "outputs": [
    {
     "data": {
      "text/plain": [
       "(b'little fuel mysel', b'ittle fuel myself ')"
      ]
     },
     "execution_count": 70,
     "metadata": {},
     "output_type": "execute_result"
    }
   ],
   "source": [
    "prev_bytes = bytes([new_bytes[0]]) + prev_bytes\n",
    "byte_mp = get_byte_map(prev_bytes[:16])\n",
    "ctext = make_query('three', 'ruolinzheng', bytes(len(prev_bytes)))\n",
    "new_bytes = byte_mp[ctext[32:48]]\n",
    "new_bytes, prev_bytes # need to concatenate these two"
   ]
  },
  {
   "cell_type": "code",
   "execution_count": 72,
   "metadata": {},
   "outputs": [
    {
     "name": "stdout",
     "output_type": "stream",
     "text": [
      "b'tle fuel myself '\n",
      "b'ttle fuel myself '\n",
      "b'ittle fuel myself '\n",
      "b'little fuel myself '\n",
      "b' little fuel myself '\n",
      "b'a little fuel myself '\n",
      "b' a little fuel myself '\n",
      "b'e a little fuel myself '\n",
      "b'se a little fuel myself '\n",
      "b'use a little fuel myself '\n",
      "b' use a little fuel myself '\n",
      "b'd use a little fuel myself '\n",
      "b'ld use a little fuel myself '\n",
      "b'uld use a little fuel myself '\n",
      "b'ould use a little fuel myself '\n",
      "b'could use a little fuel myself '\n",
      "b' could use a little fuel myself '\n",
      "b'I could use a little fuel myself '\n"
     ]
    }
   ],
   "source": [
    "# try on remaining\n",
    "prev_bytes = b'le fuel myself '\n",
    "for i in range(15, 33):\n",
    "  byte_mp = get_byte_map(prev_bytes[:16])\n",
    "  ctext = make_query('three', 'ruolinzheng', bytes(len(prev_bytes)))\n",
    "  new_bytes = byte_mp[ctext[32:48]] # note that this is at most 16 bytes\n",
    "  prev_bytes = bytes([new_bytes[0]]) + prev_bytes\n",
    "  print(i, prev_bytes)"
   ]
  }
 ],
 "metadata": {
  "kernelspec": {
   "display_name": "Python 3",
   "language": "python",
   "name": "python3"
  },
  "language_info": {
   "codemirror_mode": {
    "name": "ipython",
    "version": 3
   },
   "file_extension": ".py",
   "mimetype": "text/x-python",
   "name": "python",
   "nbconvert_exporter": "python",
   "pygments_lexer": "ipython3",
   "version": "3.7.0"
  }
 },
 "nbformat": 4,
 "nbformat_minor": 2
}
