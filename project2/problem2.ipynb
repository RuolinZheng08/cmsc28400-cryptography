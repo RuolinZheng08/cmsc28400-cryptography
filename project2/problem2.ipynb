{
 "cells": [
  {
   "cell_type": "code",
   "execution_count": 35,
   "metadata": {},
   "outputs": [],
   "source": [
    "# %load symmetric_encryption.py\n",
    "#!/usr/bin/env/python3\n",
    "\n",
    "import urllib.request\n",
    "from Crypto.Cipher import AES\n",
    "import binascii\n",
    "import base64\n",
    "import random\n",
    "import os\n",
    "import zlib\n",
    "\n",
    "################################################################################\n",
    "# CS 284 Padding Utility Functions\n",
    "################################################################################\n",
    "\n",
    "# s is a bytearray to pad, k is blocklength\n",
    "# you won't need to change the block length\n",
    "def cmsc284pad(s,k=16):\n",
    "  if k > 255:\n",
    "    print(\"pkcs7pad: padding block length must be less than 256\")\n",
    "    return bytearray()\n",
    "  n = k - (len(s) % k)\n",
    "  if n == 0:\n",
    "    n = k\n",
    "  for i in range(1,n+1):\n",
    "    s.extend([i])\n",
    "  return s\n",
    "\n",
    "# s is bytes to pad, k is blocklength\n",
    "# you won't need to change the block length\n",
    "def cmsc284padbytes(s,k=16):\n",
    "  if k > 255:\n",
    "    raise Exception(\"pkcs7pad: padding block length must be less than 256\")\n",
    "  n = k - (len(s) % k)\n",
    "  if n == 0:\n",
    "    n = k\n",
    "  for i in range(1,n+1):\n",
    "    s += chr(i).encode(\"utf-8\")\n",
    "  return s\n",
    "\n",
    "# s is bytes to unpad, k is blocklength\n",
    "# you won't need to change the block length\n",
    "def cmsc284unpad(s,k=16):\n",
    "  if not cmsc284checkpadding(s,k):\n",
    "    print(\"cmsc284unpad: invalid padding\")\n",
    "    return b''\n",
    "  n = s[len(s)-1]\n",
    "  return s[:len(s)-n]\n",
    "\n",
    "# checks padding on s and returns a boolean\n",
    "# you won't need to change the block length\n",
    "def cmsc284checkpadding(s,k=16):\n",
    "  if(len(s) == 0):\n",
    "    #print(\"Invalid padding: String zero length\"%k) \n",
    "    return False\n",
    "  if(len(s)%k != 0): \n",
    "    #print(\"Invalid padding: String is not multiple of %d bytes\"%k) \n",
    "    return False\n",
    "  n = s[len(s)-1]\n",
    "  if n > k or n == 0:\n",
    "    return False\n",
    "  else: \n",
    "    for i in range(n):\n",
    "      if s[len(s)-1-i] != (n-i):\n",
    "        return False\n",
    "  return True\n",
    "\n",
    "################################################################################\n",
    "# Function for querying the server\n",
    "################################################################################\n",
    "\n",
    "PPS2SERVER = \"http://cryptoclass.cs.uchicago.edu/\"\n",
    "def make_query(task, cnetid, query):\n",
    "  DEBUG = False\n",
    "  if DEBUG:\n",
    "    print(\"making a query\")\n",
    "    print(\"Task:\", task)\n",
    "    print(\"CNET ID:\", cnetid)\n",
    "    print(\"Query:\", query)\n",
    "  if (type(query) is bytearray) or (type(query) is bytes):\n",
    "    url = PPS2SERVER + urllib.parse.quote_plus(task) + \"/\" + urllib.parse.quote_plus(cnetid) + \"/\" + urllib.parse.quote_plus(base64.urlsafe_b64encode(query)) + \"/\"\n",
    "  else:\n",
    "    url = PPS2SERVER + urllib.parse.quote_plus(task) + \"/\" + urllib.parse.quote_plus(cnetid) + \"/\" + urllib.parse.quote_plus(base64.urlsafe_b64encode(query.encode('utf-8'))) + \"/\"\n",
    "  if DEBUG:\n",
    "    print(\"Querying:\", url)\n",
    "\n",
    "  with urllib.request.urlopen(url) as response:\n",
    "    raw_answer = response.read()\n",
    "    answer = base64.urlsafe_b64decode(raw_answer)\n",
    "    if DEBUG:\n",
    "      print(\"Answer:\", answer)\n",
    "    return answer\n",
    "  return None\n",
    "\n",
    "\n",
    "################################################################################\n",
    "# Problem 1 SOLUTION\n",
    "################################################################################\n",
    "\n",
    "def problem1(cnetid):\n",
    "  return b''\n",
    "\n",
    "\n",
    "################################################################################\n",
    "# Problem 2 SOLUTION\n",
    "################################################################################\n",
    "\n",
    "def problem2(cnetid):\n",
    "  return b''\n",
    "\n",
    "\n",
    "################################################################################\n",
    "# Problem 3 SOLUTION\n",
    "################################################################################\n",
    "\n",
    "def problem3(cnetid):\n",
    "  return b''\n",
    "\n",
    "\n",
    "################################################################################\n",
    "# Problem 4 SOLUTION\n",
    "################################################################################\n",
    "\n",
    "def problem4(cnetid):\n",
    "  return b''\n",
    "\n",
    "\n",
    "################################################################################\n",
    "# Problem 5 SOLUTION\n",
    "################################################################################\n",
    "\n",
    "def problem5(cnetid):\n",
    "  return b''\n",
    "\n",
    "################################################################################\n",
    "# Problem 6 SOLUTION\n",
    "################################################################################\n",
    "\n",
    "def problem6(cnetid):\n",
    "  return b''"
   ]
  },
  {
   "cell_type": "code",
   "execution_count": 36,
   "metadata": {},
   "outputs": [],
   "source": [
    "from collections import Counter"
   ]
  },
  {
   "cell_type": "code",
   "execution_count": 37,
   "metadata": {},
   "outputs": [
    {
     "data": {
      "text/plain": [
       "(41, b'username=davidcash&uid=133&role=professor\\x01\\x02\\x03\\x04\\x05\\x06\\x07')"
      ]
     },
     "execution_count": 37,
     "metadata": {},
     "output_type": "execute_result"
    }
   ],
   "source": [
    "ma = b'username=davidcash&uid=133&role=professor'\n",
    "len(ma), cmsc284padbytes(ma) # 7 byte padding"
   ]
  },
  {
   "cell_type": "code",
   "execution_count": 38,
   "metadata": {},
   "outputs": [
    {
     "data": {
      "text/plain": [
       "(b'username=davidca', b'sh&uid=133&role=', b'professor')"
      ]
     },
     "execution_count": 38,
     "metadata": {},
     "output_type": "execute_result"
    }
   ],
   "source": [
    "ma[:16], ma[16:32], ma[32:]"
   ]
  },
  {
   "cell_type": "code",
   "execution_count": 39,
   "metadata": {},
   "outputs": [],
   "source": [
    "ctwoa = make_query('twoa', 'ruolinzheng', '')"
   ]
  },
  {
   "cell_type": "code",
   "execution_count": 40,
   "metadata": {},
   "outputs": [],
   "source": [
    "ctwob_davidca = make_query('twob', 'ruolinzheng', 'davidca')"
   ]
  },
  {
   "cell_type": "code",
   "execution_count": 41,
   "metadata": {},
   "outputs": [
    {
     "data": {
      "text/plain": [
       "True"
      ]
     },
     "execution_count": 41,
     "metadata": {},
     "output_type": "execute_result"
    }
   ],
   "source": [
    "ctwoa[:16] == ctwob_davidca[:16] # AES deterministic for identical blocks"
   ]
  },
  {
   "cell_type": "code",
   "execution_count": 42,
   "metadata": {},
   "outputs": [],
   "source": [
    "# ctext for 'professor' w/ padding\n",
    "ctext_prof = ctwoa[32:]"
   ]
  },
  {
   "cell_type": "code",
   "execution_count": 43,
   "metadata": {},
   "outputs": [],
   "source": [
    "queryb = b'davidcausername=ruolinzheng&uid=8'"
   ]
  },
  {
   "cell_type": "code",
   "execution_count": 44,
   "metadata": {},
   "outputs": [
    {
     "data": {
      "text/plain": [
       "b'username=davidcausername=ruolinzheng&uid=8&role=student'"
      ]
     },
     "execution_count": 44,
     "metadata": {},
     "output_type": "execute_result"
    }
   ],
   "source": [
    "b'username=' + queryb + b'&role=student'"
   ]
  },
  {
   "cell_type": "code",
   "execution_count": 45,
   "metadata": {},
   "outputs": [
    {
     "data": {
      "text/plain": [
       "48"
      ]
     },
     "execution_count": 45,
     "metadata": {},
     "output_type": "execute_result"
    }
   ],
   "source": [
    "len(b'username=' + queryb + b'&role=') # 3 blocks, need 2nd and 3rd block"
   ]
  },
  {
   "cell_type": "code",
   "execution_count": 46,
   "metadata": {
    "scrolled": true
   },
   "outputs": [],
   "source": [
    "ctextb = make_query('twob', 'ruolinzheng', queryb)"
   ]
  },
  {
   "cell_type": "code",
   "execution_count": 52,
   "metadata": {},
   "outputs": [
    {
     "data": {
      "text/plain": [
       "64"
      ]
     },
     "execution_count": 52,
     "metadata": {},
     "output_type": "execute_result"
    }
   ],
   "source": [
    "len(ctextb) # 0 - 47 ctext, 48 - 64 cpadding"
   ]
  },
  {
   "cell_type": "code",
   "execution_count": 53,
   "metadata": {},
   "outputs": [],
   "source": [
    "queryc = ctextb[16:48] + ctext_prof"
   ]
  },
  {
   "cell_type": "code",
   "execution_count": 54,
   "metadata": {
    "scrolled": true
   },
   "outputs": [
    {
     "data": {
      "text/plain": [
       "b'Admin access granted.'"
      ]
     },
     "execution_count": 54,
     "metadata": {},
     "output_type": "execute_result"
    }
   ],
   "source": [
    "make_query('twoc', 'ruolinzheng', queryc)"
   ]
  },
  {
   "cell_type": "code",
   "execution_count": 57,
   "metadata": {},
   "outputs": [],
   "source": [
    "def problem2(cnetid):\n",
    "  ctext_a = make_query('twoa', cnetid, '')\n",
    "  ctext_prof = ctext_a[32:]\n",
    "  query_b = b'davidcausername=' + bytes(cnetid, 'utf-8') + b'&uid=8'\n",
    "  ctext_b = make_query('twob', cnetid, query_b)\n",
    "  query_c = ctext_b[16:48] + ctext_prof\n",
    "  return make_query('twoc', 'ruolinzheng', query_c)"
   ]
  }
 ],
 "metadata": {
  "kernelspec": {
   "display_name": "Python 3",
   "language": "python",
   "name": "python3"
  },
  "language_info": {
   "codemirror_mode": {
    "name": "ipython",
    "version": 3
   },
   "file_extension": ".py",
   "mimetype": "text/x-python",
   "name": "python",
   "nbconvert_exporter": "python",
   "pygments_lexer": "ipython3",
   "version": "3.7.0"
  }
 },
 "nbformat": 4,
 "nbformat_minor": 2
}
