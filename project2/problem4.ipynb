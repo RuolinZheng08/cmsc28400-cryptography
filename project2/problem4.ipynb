{
 "cells": [
  {
   "cell_type": "code",
   "execution_count": 2,
   "metadata": {},
   "outputs": [],
   "source": [
    "# %load symmetric_encryption.py\n",
    "#!/usr/bin/env/python3\n",
    "\n",
    "import urllib.request\n",
    "from Crypto.Cipher import AES\n",
    "import binascii\n",
    "import base64\n",
    "import random\n",
    "import os\n",
    "import zlib\n",
    "\n",
    "################################################################################\n",
    "# CS 284 Padding Utility Functions\n",
    "################################################################################\n",
    "\n",
    "# s is a bytearray to pad, k is blocklength\n",
    "# you won't need to change the block length\n",
    "def cmsc284pad(s,k=16):\n",
    "  if k > 255:\n",
    "    print(\"pkcs7pad: padding block length must be less than 256\")\n",
    "    return bytearray()\n",
    "  n = k - (len(s) % k)\n",
    "  if n == 0:\n",
    "    n = k\n",
    "  for i in range(1,n+1):\n",
    "    s.extend([i])\n",
    "  return s\n",
    "\n",
    "# s is bytes to pad, k is blocklength\n",
    "# you won't need to change the block length\n",
    "def cmsc284padbytes(s,k=16):\n",
    "  if k > 255:\n",
    "    raise Exception(\"pkcs7pad: padding block length must be less than 256\")\n",
    "  n = k - (len(s) % k)\n",
    "  if n == 0:\n",
    "    n = k\n",
    "  for i in range(1,n+1):\n",
    "    s += chr(i).encode(\"utf-8\")\n",
    "  return s\n",
    "\n",
    "# s is bytes to unpad, k is blocklength\n",
    "# you won't need to change the block length\n",
    "def cmsc284unpad(s,k=16):\n",
    "  if not cmsc284checkpadding(s,k):\n",
    "    print(\"cmsc284unpad: invalid padding\")\n",
    "    return b''\n",
    "  n = s[len(s)-1]\n",
    "  return s[:len(s)-n]\n",
    "\n",
    "# checks padding on s and returns a boolean\n",
    "# you won't need to change the block length\n",
    "def cmsc284checkpadding(s,k=16):\n",
    "  if(len(s) == 0):\n",
    "    #print(\"Invalid padding: String zero length\"%k) \n",
    "    return False\n",
    "  if(len(s)%k != 0): \n",
    "    #print(\"Invalid padding: String is not multiple of %d bytes\"%k) \n",
    "    return False\n",
    "  n = s[len(s)-1]\n",
    "  if n > k or n == 0:\n",
    "    return False\n",
    "  else: \n",
    "    for i in range(n):\n",
    "      if s[len(s)-1-i] != (n-i):\n",
    "        return False\n",
    "  return True\n",
    "\n",
    "################################################################################\n",
    "# Function for querying the server\n",
    "################################################################################\n",
    "\n",
    "PPS2SERVER = \"http://cryptoclass.cs.uchicago.edu/\"\n",
    "def make_query(task, cnetid, query):\n",
    "  DEBUG = False\n",
    "  if DEBUG:\n",
    "    print(\"making a query\")\n",
    "    print(\"Task:\", task)\n",
    "    print(\"CNET ID:\", cnetid)\n",
    "    print(\"Query:\", query)\n",
    "  if (type(query) is bytearray) or (type(query) is bytes):\n",
    "    url = PPS2SERVER + urllib.parse.quote_plus(task) + \"/\" + urllib.parse.quote_plus(cnetid) + \"/\" + urllib.parse.quote_plus(base64.urlsafe_b64encode(query)) + \"/\"\n",
    "  else:\n",
    "    url = PPS2SERVER + urllib.parse.quote_plus(task) + \"/\" + urllib.parse.quote_plus(cnetid) + \"/\" + urllib.parse.quote_plus(base64.urlsafe_b64encode(query.encode('utf-8'))) + \"/\"\n",
    "  if DEBUG:\n",
    "    print(\"Querying:\", url)\n",
    "\n",
    "  with urllib.request.urlopen(url) as response:\n",
    "    raw_answer = response.read()\n",
    "    answer = base64.urlsafe_b64decode(raw_answer)\n",
    "    if DEBUG:\n",
    "      print(\"Answer:\", answer)\n",
    "    return answer\n",
    "  return None\n",
    "\n",
    "\n",
    "################################################################################\n",
    "# Problem 1 SOLUTION\n",
    "################################################################################\n",
    "\n",
    "def problem1(cnetid):\n",
    "  return b''\n",
    "\n",
    "\n",
    "################################################################################\n",
    "# Problem 2 SOLUTION\n",
    "################################################################################\n",
    "\n",
    "def problem2(cnetid):\n",
    "  return b''\n",
    "\n",
    "\n",
    "################################################################################\n",
    "# Problem 3 SOLUTION\n",
    "################################################################################\n",
    "\n",
    "def problem3(cnetid):\n",
    "  return b''\n",
    "\n",
    "\n",
    "################################################################################\n",
    "# Problem 4 SOLUTION\n",
    "################################################################################\n",
    "\n",
    "def problem4(cnetid):\n",
    "  return b''\n",
    "\n",
    "\n",
    "################################################################################\n",
    "# Problem 5 SOLUTION\n",
    "################################################################################\n",
    "\n",
    "def problem5(cnetid):\n",
    "  return b''\n",
    "\n",
    "################################################################################\n",
    "# Problem 6 SOLUTION\n",
    "################################################################################\n",
    "\n",
    "def problem6(cnetid):\n",
    "  return b''"
   ]
  },
  {
   "cell_type": "code",
   "execution_count": 3,
   "metadata": {},
   "outputs": [],
   "source": [
    "from collections import Counter\n",
    "import math"
   ]
  },
  {
   "cell_type": "code",
   "execution_count": 4,
   "metadata": {
    "scrolled": true
   },
   "outputs": [
    {
     "data": {
      "text/plain": [
       "b'\\x88[\\x02s\\x84\\xbd\\x1c\\xfa&TL+bA\\xf2\\x8d\\xcd\\xa5\\\\I\\xca\\xca\\xfd(\\xc2\\xb2F\\xaaP\\xa3\\x15\\x12K\\xa8\\x9fsC\\x81\\xd125\\x86\\xd2\\x7f\\xb6\\x87QH8\\x15X\\xbc\\xeb\\xcb\\x16L\\xbf\\xc4\\x97\\x02{f\\xa8\\n\\xfe\\x8b\\x08\\xb0{\\xc0Y\\x05\\x16Z\\x19R\\xf1\\xd69p'"
      ]
     },
     "execution_count": 4,
     "metadata": {},
     "output_type": "execute_result"
    }
   ],
   "source": [
    "make_query('foura', 'ruolinzheng', '')"
   ]
  },
  {
   "cell_type": "code",
   "execution_count": 10,
   "metadata": {},
   "outputs": [],
   "source": [
    "ctextb = make_query('fourb', 'ruolinzheng', bytes(32))"
   ]
  },
  {
   "cell_type": "code",
   "execution_count": 12,
   "metadata": {},
   "outputs": [],
   "source": [
    "m1, m2 = ctextb[:16], ctextb[16:]"
   ]
  },
  {
   "cell_type": "code",
   "execution_count": 14,
   "metadata": {},
   "outputs": [],
   "source": [
    "key = bytes([b1 ^ b2 for b1, b2 in zip(m1, m2)])"
   ]
  },
  {
   "cell_type": "code",
   "execution_count": 20,
   "metadata": {
    "scrolled": true
   },
   "outputs": [
    {
     "data": {
      "text/plain": [
       "b'Permission denied'"
      ]
     },
     "execution_count": 20,
     "metadata": {},
     "output_type": "execute_result"
    }
   ],
   "source": [
    "cipher = AES.new(key, AES.MODE_ECB)\n",
    "query = cipher.encrypt(bytes(16))\n",
    "make_query('fourc', 'ruolinzheng', query)"
   ]
  },
  {
   "cell_type": "code",
   "execution_count": 25,
   "metadata": {},
   "outputs": [],
   "source": [
    "def xor_bytes(bytes1, bytes2):\n",
    "  if len(bytes1) != len(bytes2):\n",
    "    raise\n",
    "  return bytes([b1 ^ b2 for b1, b2 in zip(bytes1, bytes2)])"
   ]
  },
  {
   "cell_type": "code",
   "execution_count": 45,
   "metadata": {},
   "outputs": [],
   "source": [
    "def problem4_enc(key, msg):\n",
    "  padded_msg = cmsc284padbytes(msg)\n",
    "  parsed_msgs = [padded_msg[i : i + 16] for i in \n",
    "                 range(0, len(padded_msg), 16)]\n",
    "  ctexts = [key]\n",
    "  cipher = AES.new(key, AES.MODE_ECB)\n",
    "  for i in range(len(parsed_msgs)):\n",
    "    to_encrypt = xor_bytes(ctexts[i], parsed_msgs[i])\n",
    "    ctexts.append(cipher.encrypt(to_encrypt))\n",
    "  return b''.join(ctexts[1:]) # omit ctexts[0] which is the key"
   ]
  },
  {
   "cell_type": "code",
   "execution_count": 46,
   "metadata": {},
   "outputs": [],
   "source": [
    "query = problem4_enc(key, b'let me in please')"
   ]
  },
  {
   "cell_type": "code",
   "execution_count": 47,
   "metadata": {
    "scrolled": true
   },
   "outputs": [
    {
     "data": {
      "text/plain": [
       "b'Message decrypted properly'"
      ]
     },
     "execution_count": 47,
     "metadata": {},
     "output_type": "execute_result"
    }
   ],
   "source": [
    "make_query('fourb', 'ruolinzheng', query)"
   ]
  },
  {
   "cell_type": "code",
   "execution_count": 48,
   "metadata": {
    "scrolled": false
   },
   "outputs": [
    {
     "data": {
      "text/plain": [
       "b'Success!'"
      ]
     },
     "execution_count": 48,
     "metadata": {},
     "output_type": "execute_result"
    }
   ],
   "source": [
    "make_query('fourc', 'ruolinzheng', query)"
   ]
  },
  {
   "cell_type": "code",
   "execution_count": 49,
   "metadata": {},
   "outputs": [],
   "source": [
    "def get_key(cnetid):\n",
    "  ctext_b = make_query('fourb', cnetid, bytes(32))\n",
    "  m1, m2 = ctext_b[:16], ctext_b[16:]\n",
    "  key = xor_bytes(m1, m2)\n",
    "  return key"
   ]
  },
  {
   "cell_type": "code",
   "execution_count": 50,
   "metadata": {},
   "outputs": [],
   "source": [
    "def problem4(cnetid):\n",
    "  msg = b'let me in please'\n",
    "  key = get_key(cnetid)\n",
    "  query = problem4_enc(key, msg)\n",
    "  return make_query('fourc', cnetid, query)"
   ]
  },
  {
   "cell_type": "code",
   "execution_count": 51,
   "metadata": {},
   "outputs": [
    {
     "data": {
      "text/plain": [
       "b'Success!'"
      ]
     },
     "execution_count": 51,
     "metadata": {},
     "output_type": "execute_result"
    }
   ],
   "source": [
    "problem4('davidcash')"
   ]
  }
 ],
 "metadata": {
  "kernelspec": {
   "display_name": "Python 3",
   "language": "python",
   "name": "python3"
  },
  "language_info": {
   "codemirror_mode": {
    "name": "ipython",
    "version": 3
   },
   "file_extension": ".py",
   "mimetype": "text/x-python",
   "name": "python",
   "nbconvert_exporter": "python",
   "pygments_lexer": "ipython3",
   "version": "3.7.0"
  }
 },
 "nbformat": 4,
 "nbformat_minor": 2
}
