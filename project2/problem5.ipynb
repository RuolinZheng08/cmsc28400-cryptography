{
 "cells": [
  {
   "cell_type": "code",
   "execution_count": 1,
   "metadata": {},
   "outputs": [],
   "source": [
    "# %load symmetric_encryption.py\n",
    "#!/usr/bin/env/python3\n",
    "\n",
    "import urllib.request\n",
    "from Crypto.Cipher import AES\n",
    "import binascii\n",
    "import base64\n",
    "import random\n",
    "import os\n",
    "import zlib\n",
    "\n",
    "################################################################################\n",
    "# CS 284 Padding Utility Functions\n",
    "################################################################################\n",
    "\n",
    "# s is a bytearray to pad, k is blocklength\n",
    "# you won't need to change the block length\n",
    "def cmsc284pad(s,k=16):\n",
    "  if k > 255:\n",
    "    print(\"pkcs7pad: padding block length must be less than 256\")\n",
    "    return bytearray()\n",
    "  n = k - (len(s) % k)\n",
    "  if n == 0:\n",
    "    n = k\n",
    "  for i in range(1,n+1):\n",
    "    s.extend([i])\n",
    "  return s\n",
    "\n",
    "# s is bytes to pad, k is blocklength\n",
    "# you won't need to change the block length\n",
    "def cmsc284padbytes(s,k=16):\n",
    "  if k > 255:\n",
    "    raise Exception(\"pkcs7pad: padding block length must be less than 256\")\n",
    "  n = k - (len(s) % k)\n",
    "  if n == 0:\n",
    "    n = k\n",
    "  for i in range(1,n+1):\n",
    "    s += chr(i).encode(\"utf-8\")\n",
    "  return s\n",
    "\n",
    "# s is bytes to unpad, k is blocklength\n",
    "# you won't need to change the block length\n",
    "def cmsc284unpad(s,k=16):\n",
    "  if not cmsc284checkpadding(s,k):\n",
    "    print(\"cmsc284unpad: invalid padding\")\n",
    "    return b''\n",
    "  n = s[len(s)-1]\n",
    "  return s[:len(s)-n]\n",
    "\n",
    "# checks padding on s and returns a boolean\n",
    "# you won't need to change the block length\n",
    "def cmsc284checkpadding(s,k=16):\n",
    "  if(len(s) == 0):\n",
    "    #print(\"Invalid padding: String zero length\"%k) \n",
    "    return False\n",
    "  if(len(s)%k != 0): \n",
    "    #print(\"Invalid padding: String is not multiple of %d bytes\"%k) \n",
    "    return False\n",
    "  n = s[len(s)-1]\n",
    "  if n > k or n == 0:\n",
    "    return False\n",
    "  else: \n",
    "    for i in range(n):\n",
    "      if s[len(s)-1-i] != (n-i):\n",
    "        return False\n",
    "  return True\n",
    "\n",
    "################################################################################\n",
    "# Function for querying the server\n",
    "################################################################################\n",
    "\n",
    "PPS2SERVER = \"http://cryptoclass.cs.uchicago.edu/\"\n",
    "def make_query(task, cnetid, query):\n",
    "  DEBUG = False\n",
    "  if DEBUG:\n",
    "    print(\"making a query\")\n",
    "    print(\"Task:\", task)\n",
    "    print(\"CNET ID:\", cnetid)\n",
    "    print(\"Query:\", query)\n",
    "  if (type(query) is bytearray) or (type(query) is bytes):\n",
    "    url = PPS2SERVER + urllib.parse.quote_plus(task) + \"/\" + urllib.parse.quote_plus(cnetid) + \"/\" + urllib.parse.quote_plus(base64.urlsafe_b64encode(query)) + \"/\"\n",
    "  else:\n",
    "    url = PPS2SERVER + urllib.parse.quote_plus(task) + \"/\" + urllib.parse.quote_plus(cnetid) + \"/\" + urllib.parse.quote_plus(base64.urlsafe_b64encode(query.encode('utf-8'))) + \"/\"\n",
    "  if DEBUG:\n",
    "    print(\"Querying:\", url)\n",
    "\n",
    "  with urllib.request.urlopen(url) as response:\n",
    "    raw_answer = response.read()\n",
    "    answer = base64.urlsafe_b64decode(raw_answer)\n",
    "    if DEBUG:\n",
    "      print(\"Answer:\", answer)\n",
    "    return answer\n",
    "  return None\n",
    "\n",
    "\n",
    "################################################################################\n",
    "# Problem 1 SOLUTION\n",
    "################################################################################\n",
    "\n",
    "def problem1(cnetid):\n",
    "  return b''\n",
    "\n",
    "\n",
    "################################################################################\n",
    "# Problem 2 SOLUTION\n",
    "################################################################################\n",
    "\n",
    "def problem2(cnetid):\n",
    "  return b''\n",
    "\n",
    "\n",
    "################################################################################\n",
    "# Problem 3 SOLUTION\n",
    "################################################################################\n",
    "\n",
    "def problem3(cnetid):\n",
    "  return b''\n",
    "\n",
    "\n",
    "################################################################################\n",
    "# Problem 4 SOLUTION\n",
    "################################################################################\n",
    "\n",
    "def problem4(cnetid):\n",
    "  return b''\n",
    "\n",
    "\n",
    "################################################################################\n",
    "# Problem 5 SOLUTION\n",
    "################################################################################\n",
    "\n",
    "def problem5(cnetid):\n",
    "  return b''\n",
    "\n",
    "################################################################################\n",
    "# Problem 6 SOLUTION\n",
    "################################################################################\n",
    "\n",
    "def problem6(cnetid):\n",
    "  return b''"
   ]
  },
  {
   "cell_type": "code",
   "execution_count": 2,
   "metadata": {},
   "outputs": [],
   "source": [
    "from copy import deepcopy"
   ]
  },
  {
   "cell_type": "code",
   "execution_count": 3,
   "metadata": {},
   "outputs": [],
   "source": [
    "def get_aes_dec_byte(cnetid, ctext, idx):\n",
    "  \"\"\"modify ctext in place and\n",
    "  return dec_byte = AES^{-1}(k, c[i])[idx]\"\"\"\n",
    "  dec_byte = None\n",
    "  for byte in range(1, 256):\n",
    "    ctext[idx] = byte\n",
    "    resp = make_query('fiveb', cnetid, ctext)\n",
    "    if resp == b'true':\n",
    "      dec_byte = ctext[idx] ^ 1\n",
    "      break\n",
    "  return dec_byte"
   ]
  },
  {
   "cell_type": "code",
   "execution_count": 4,
   "metadata": {},
   "outputs": [
    {
     "data": {
      "text/plain": [
       "11"
      ]
     },
     "execution_count": 4,
     "metadata": {},
     "output_type": "execute_result"
    }
   ],
   "source": [
    "ctext = bytearray(make_query('fivea', 'ruolinzheng', ''))\n",
    "get_aes_dec_byte('ruolinzheng', ctext, 31)"
   ]
  },
  {
   "cell_type": "code",
   "execution_count": 5,
   "metadata": {},
   "outputs": [],
   "source": [
    "def set_ctext(ctext, recovered, start, end):\n",
    "  \"\"\"modify in place\"\"\"\n",
    "  for i in range(end - start):\n",
    "    offset = start + i\n",
    "    byte = (i + 2) % 256 # wrap around\n",
    "    ctext[offset] = recovered[offset] ^ byte"
   ]
  },
  {
   "cell_type": "code",
   "execution_count": 18,
   "metadata": {},
   "outputs": [],
   "source": [
    "def problem5(cnetid):\n",
    "  ctext = bytearray(make_query('fivea', cnetid, ''))\n",
    "  len_ctext = len(ctext)\n",
    "  len_flag = len_ctext - 16\n",
    "  aes_dec_arr = bytearray(len_flag)\n",
    "  flag_arr = bytearray(len_flag)\n",
    "  # first block can't be used on its own\n",
    "  for block_idx in range(len_ctext, 16, -16):\n",
    "    ctext_mod = ctext[:block_idx] # new copy\n",
    "    offset = len(ctext_mod) - 16\n",
    "    for idx in range(offset - 1, offset - 17, -1):\n",
    "      dec_byte = get_aes_dec_byte(cnetid, ctext_mod, idx)\n",
    "      aes_dec_arr[idx] = dec_byte\n",
    "      flag_arr[idx] = dec_byte ^ ctext[idx]\n",
    "      print(idx, bytes([flag_arr[idx]]))\n",
    "      set_ctext(ctext_mod, aes_dec_arr, idx, offset)\n",
    "  if not cmsc284checkpadding(flag_arr):\n",
    "    raise\n",
    "  else:\n",
    "    return cmsc284unpad(flag_arr)"
   ]
  },
  {
   "cell_type": "code",
   "execution_count": 19,
   "metadata": {
    "scrolled": true
   },
   "outputs": [
    {
     "name": "stdout",
     "output_type": "stream",
     "text": [
      "31 b'\\x05'\n",
      "30 b'\\x04'\n",
      "29 b'\\x03'\n",
      "28 b'\\x02'\n",
      "27 b'\\x01'\n",
      "26 b's'\n",
      "25 b'o'\n",
      "24 b'h'\n",
      "23 b't'\n",
      "22 b' '\n",
      "21 b'o'\n",
      "20 b'T'\n",
      "19 b' '\n",
      "18 b'.'\n",
      "17 b'y'\n",
      "16 b'a'\n",
      "15 b'D'\n",
      "14 b' '\n",
      "13 b's'\n",
      "12 b'n'\n",
      "11 b'a'\n",
      "10 b'r'\n",
      "9 b'e'\n",
      "8 b't'\n",
      "7 b'e'\n",
      "6 b'V'\n",
      "5 b' '\n",
      "4 b'y'\n",
      "3 b'p'\n",
      "2 b'p'\n",
      "1 b'a'\n",
      "0 b'H'\n"
     ]
    },
    {
     "data": {
      "text/plain": [
       "bytearray(b'Happy Veterans Day. To thos')"
      ]
     },
     "execution_count": 19,
     "metadata": {},
     "output_type": "execute_result"
    }
   ],
   "source": [
    "problem5('ruolinzheng')"
   ]
  },
  {
   "cell_type": "code",
   "execution_count": 13,
   "metadata": {
    "scrolled": true
   },
   "outputs": [
    {
     "name": "stdout",
     "output_type": "stream",
     "text": [
      "31 b'\\x05'\n",
      "30 b'\\x04'\n",
      "29 b'\\x03'\n",
      "28 b'\\x02'\n",
      "27 b'\\x01'\n",
      "26 b's'\n",
      "25 b'o'\n",
      "24 b'h'\n",
      "23 b't'\n",
      "22 b' '\n",
      "21 b'o'\n",
      "20 b'T'\n",
      "19 b' '\n",
      "18 b'.'\n",
      "17 b'y'\n",
      "16 b'a'\n",
      "15 b'D'\n",
      "14 b' '\n",
      "13 b's'\n",
      "12 b'n'\n",
      "11 b'a'\n",
      "10 b'r'\n",
      "9 b'e'\n",
      "8 b't'\n",
      "7 b'e'\n",
      "6 b'V'\n",
      "5 b' '\n",
      "4 b'y'\n",
      "3 b'p'\n",
      "2 b'p'\n",
      "1 b'a'\n",
      "0 b'H'\n"
     ]
    },
    {
     "data": {
      "text/plain": [
       "bytearray(b'Happy Veterans Day. To thos\\x01\\x02\\x03\\x04\\x05')"
      ]
     },
     "execution_count": 13,
     "metadata": {},
     "output_type": "execute_result"
    }
   ],
   "source": [
    "ctext = bytearray(make_query('fivea', 'ruolinzheng', ''))\n",
    "len_flag = len(ctext) - 16\n",
    "aes_dec_arr = bytearray(len_flag)\n",
    "flag_arr = bytearray(len_flag)\n",
    "\n",
    "block_end_idx = 48\n",
    "ctext_mod = ctext[:block_end_idx]\n",
    "flag_arr_idx = block_end_idx - 16\n",
    "for idx in range(flag_arr_idx - 1, flag_arr_idx - 17, -1):\n",
    "  dec_byte = get_aes_dec_byte('ruolinzheng', ctext_mod, idx)\n",
    "  aes_dec_arr[idx] = dec_byte\n",
    "  flag_arr[idx] = dec_byte ^ ctext[idx]\n",
    "  print(idx, bytes([flag_arr[idx]]))\n",
    "  set_ctext(ctext_mod, aes_dec_arr, idx, flag_arr_idx)\n",
    "\n",
    "ctext_mod = ctext[:32]\n",
    "len_msg = len(ctext_mod) - 16\n",
    "for idx in range(len_msg - 1, len_msg - 17, -1):\n",
    "  dec_byte = get_aes_dec_byte('ruolinzheng', ctext_mod, idx)\n",
    "  aes_dec_arr[idx] = dec_byte\n",
    "  flag_arr[idx] = dec_byte ^ ctext[idx]\n",
    "  print(idx, bytes([flag_arr[idx]]))\n",
    "  set_ctext(ctext_mod, aes_dec_arr, idx, len_msg)\n",
    "flag_arr"
   ]
  }
 ],
 "metadata": {
  "kernelspec": {
   "display_name": "Python 3",
   "language": "python",
   "name": "python3"
  },
  "language_info": {
   "codemirror_mode": {
    "name": "ipython",
    "version": 3
   },
   "file_extension": ".py",
   "mimetype": "text/x-python",
   "name": "python",
   "nbconvert_exporter": "python",
   "pygments_lexer": "ipython3",
   "version": "3.7.0"
  }
 },
 "nbformat": 4,
 "nbformat_minor": 2
}
