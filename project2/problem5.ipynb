{
 "cells": [
  {
   "cell_type": "code",
   "execution_count": 2,
   "metadata": {},
   "outputs": [],
   "source": [
    "# %load symmetric_encryption.py\n",
    "#!/usr/bin/env/python3\n",
    "\n",
    "import urllib.request\n",
    "from Crypto.Cipher import AES\n",
    "import binascii\n",
    "import base64\n",
    "import random\n",
    "import os\n",
    "import zlib\n",
    "\n",
    "################################################################################\n",
    "# CS 284 Padding Utility Functions\n",
    "################################################################################\n",
    "\n",
    "# s is a bytearray to pad, k is blocklength\n",
    "# you won't need to change the block length\n",
    "def cmsc284pad(s,k=16):\n",
    "  if k > 255:\n",
    "    print(\"pkcs7pad: padding block length must be less than 256\")\n",
    "    return bytearray()\n",
    "  n = k - (len(s) % k)\n",
    "  if n == 0:\n",
    "    n = k\n",
    "  for i in range(1,n+1):\n",
    "    s.extend([i])\n",
    "  return s\n",
    "\n",
    "# s is bytes to pad, k is blocklength\n",
    "# you won't need to change the block length\n",
    "def cmsc284padbytes(s,k=16):\n",
    "  if k > 255:\n",
    "    raise Exception(\"pkcs7pad: padding block length must be less than 256\")\n",
    "  n = k - (len(s) % k)\n",
    "  if n == 0:\n",
    "    n = k\n",
    "  for i in range(1,n+1):\n",
    "    s += chr(i).encode(\"utf-8\")\n",
    "  return s\n",
    "\n",
    "# s is bytes to unpad, k is blocklength\n",
    "# you won't need to change the block length\n",
    "def cmsc284unpad(s,k=16):\n",
    "  if not cmsc284checkpadding(s,k):\n",
    "    print(\"cmsc284unpad: invalid padding\")\n",
    "    return b''\n",
    "  n = s[len(s)-1]\n",
    "  return s[:len(s)-n]\n",
    "\n",
    "# checks padding on s and returns a boolean\n",
    "# you won't need to change the block length\n",
    "def cmsc284checkpadding(s,k=16):\n",
    "  if(len(s) == 0):\n",
    "    #print(\"Invalid padding: String zero length\"%k) \n",
    "    return False\n",
    "  if(len(s)%k != 0): \n",
    "    #print(\"Invalid padding: String is not multiple of %d bytes\"%k) \n",
    "    return False\n",
    "  n = s[len(s)-1]\n",
    "  if n > k or n == 0:\n",
    "    return False\n",
    "  else: \n",
    "    for i in range(n):\n",
    "      if s[len(s)-1-i] != (n-i):\n",
    "        return False\n",
    "  return True\n",
    "\n",
    "################################################################################\n",
    "# Function for querying the server\n",
    "################################################################################\n",
    "\n",
    "PPS2SERVER = \"http://cryptoclass.cs.uchicago.edu/\"\n",
    "def make_query(task, cnetid, query):\n",
    "  DEBUG = False\n",
    "  if DEBUG:\n",
    "    print(\"making a query\")\n",
    "    print(\"Task:\", task)\n",
    "    print(\"CNET ID:\", cnetid)\n",
    "    print(\"Query:\", query)\n",
    "  if (type(query) is bytearray) or (type(query) is bytes):\n",
    "    url = PPS2SERVER + urllib.parse.quote_plus(task) + \"/\" + urllib.parse.quote_plus(cnetid) + \"/\" + urllib.parse.quote_plus(base64.urlsafe_b64encode(query)) + \"/\"\n",
    "  else:\n",
    "    url = PPS2SERVER + urllib.parse.quote_plus(task) + \"/\" + urllib.parse.quote_plus(cnetid) + \"/\" + urllib.parse.quote_plus(base64.urlsafe_b64encode(query.encode('utf-8'))) + \"/\"\n",
    "  if DEBUG:\n",
    "    print(\"Querying:\", url)\n",
    "\n",
    "  with urllib.request.urlopen(url) as response:\n",
    "    raw_answer = response.read()\n",
    "    answer = base64.urlsafe_b64decode(raw_answer)\n",
    "    if DEBUG:\n",
    "      print(\"Answer:\", answer)\n",
    "    return answer\n",
    "  return None\n",
    "\n",
    "\n",
    "################################################################################\n",
    "# Problem 1 SOLUTION\n",
    "################################################################################\n",
    "\n",
    "def problem1(cnetid):\n",
    "  return b''\n",
    "\n",
    "\n",
    "################################################################################\n",
    "# Problem 2 SOLUTION\n",
    "################################################################################\n",
    "\n",
    "def problem2(cnetid):\n",
    "  return b''\n",
    "\n",
    "\n",
    "################################################################################\n",
    "# Problem 3 SOLUTION\n",
    "################################################################################\n",
    "\n",
    "def problem3(cnetid):\n",
    "  return b''\n",
    "\n",
    "\n",
    "################################################################################\n",
    "# Problem 4 SOLUTION\n",
    "################################################################################\n",
    "\n",
    "def problem4(cnetid):\n",
    "  return b''\n",
    "\n",
    "\n",
    "################################################################################\n",
    "# Problem 5 SOLUTION\n",
    "################################################################################\n",
    "\n",
    "def problem5(cnetid):\n",
    "  return b''\n",
    "\n",
    "################################################################################\n",
    "# Problem 6 SOLUTION\n",
    "################################################################################\n",
    "\n",
    "def problem6(cnetid):\n",
    "  return b''"
   ]
  },
  {
   "cell_type": "code",
   "execution_count": 3,
   "metadata": {},
   "outputs": [],
   "source": [
    "ctext = bytearray(make_query('fivea', 'ruolinzheng', ''))"
   ]
  },
  {
   "cell_type": "code",
   "execution_count": 4,
   "metadata": {},
   "outputs": [
    {
     "data": {
      "text/plain": [
       "b'true'"
      ]
     },
     "execution_count": 4,
     "metadata": {},
     "output_type": "execute_result"
    }
   ],
   "source": [
    "make_query('fiveb', 'ruolinzheng', ctext)"
   ]
  },
  {
   "cell_type": "code",
   "execution_count": 5,
   "metadata": {},
   "outputs": [
    {
     "data": {
      "text/plain": [
       "b'false'"
      ]
     },
     "execution_count": 5,
     "metadata": {},
     "output_type": "execute_result"
    }
   ],
   "source": [
    "make_query('fiveb', 'ruolinzheng', ctext[:-16])"
   ]
  },
  {
   "cell_type": "code",
   "execution_count": 6,
   "metadata": {},
   "outputs": [],
   "source": [
    "# maybe last byte of msg is already 0x01?\n",
    "ctext[-17] = 1 ^ 2\n",
    "# try to make msg[-2] 0x01\n",
    "idx = -18\n",
    "for i in range(256):\n",
    "  ctext[idx] ^= i\n",
    "  resp = make_query('fiveb', 'ruolinzheng', ctext)\n",
    "  ctext[idx] ^= i # reset\n",
    "  if resp == b'true':\n",
    "    flag_byte = ctext[idx] ^ i ^ 1\n",
    "    print(flag_byte, bytes([flag_byte]))\n",
    "# nope"
   ]
  },
  {
   "cell_type": "code",
   "execution_count": 7,
   "metadata": {},
   "outputs": [
    {
     "name": "stdout",
     "output_type": "stream",
     "text": [
      "0 75 b'K'\n",
      "13 70 b'F'\n"
     ]
    }
   ],
   "source": [
    "ctext = bytearray(make_query('fivea', 'davidcash', ''))\n",
    "# try to make msg[-1] 0x01\n",
    "idx = 31\n",
    "for i in range(256):\n",
    "  ctext[idx] ^= i\n",
    "  resp = make_query('fiveb', 'davidcash', ctext)\n",
    "  ctext[idx] ^= i # reset\n",
    "  if resp == b'true':\n",
    "    flag_byte = ctext[idx] ^ i ^ 1\n",
    "    print(i, flag_byte, bytes([flag_byte]))"
   ]
  },
  {
   "cell_type": "code",
   "execution_count": 8,
   "metadata": {},
   "outputs": [
    {
     "name": "stdout",
     "output_type": "stream",
     "text": [
      "10 213 b'\\xd5'\n"
     ]
    }
   ],
   "source": [
    "ctext[31] = 70 ^ 2\n",
    "idx = 30\n",
    "for i in range(256):\n",
    "  ctext[idx] ^= i\n",
    "  resp = make_query('fiveb', 'davidcash', ctext)\n",
    "  ctext[idx] ^= i # reset\n",
    "  if resp == b'true':\n",
    "    flag_byte = ctext[idx] ^ i ^ 1\n",
    "    print(i, flag_byte, bytes([flag_byte]))"
   ]
  },
  {
   "cell_type": "code",
   "execution_count": 9,
   "metadata": {},
   "outputs": [
    {
     "name": "stdout",
     "output_type": "stream",
     "text": [
      "11 109 b'm'\n"
     ]
    }
   ],
   "source": [
    "ctext[31] = 70 ^ 3\n",
    "ctext[30] = 213 ^ 2\n",
    "idx = 29\n",
    "for i in range(256):\n",
    "  ctext[idx] ^= i\n",
    "  resp = make_query('fiveb', 'davidcash', ctext)\n",
    "  ctext[idx] ^= i # reset\n",
    "  if resp == b'true':\n",
    "    flag_byte = ctext[idx] ^ i ^ 1\n",
    "    print(i, flag_byte, bytes([flag_byte]))"
   ]
  },
  {
   "cell_type": "code",
   "execution_count": 10,
   "metadata": {},
   "outputs": [
    {
     "name": "stdout",
     "output_type": "stream",
     "text": [
      "8 73 b'I'\n"
     ]
    }
   ],
   "source": [
    "ctext[31] = 70 ^ 4\n",
    "ctext[30] = 213 ^ 3\n",
    "ctext[29] = 109 ^ 2\n",
    "idx = 28\n",
    "for i in range(256):\n",
    "  ctext[idx] ^= i\n",
    "  resp = make_query('fiveb', 'davidcash', ctext)\n",
    "  ctext[idx] ^= i # reset\n",
    "  if resp == b'true':\n",
    "    flag_byte = ctext[idx] ^ i ^ 1\n",
    "    print(i, flag_byte, bytes([flag_byte]))"
   ]
  },
  {
   "cell_type": "code",
   "execution_count": 11,
   "metadata": {},
   "outputs": [
    {
     "name": "stdout",
     "output_type": "stream",
     "text": [
      "9 195 b'\\xc3'\n"
     ]
    }
   ],
   "source": [
    "ctext[31] = 70 ^ 5\n",
    "ctext[30] = 213 ^ 4\n",
    "ctext[29] = 109 ^ 3\n",
    "ctext[28] = 73 ^ 2\n",
    "idx = 27\n",
    "for i in range(256):\n",
    "  ctext[idx] ^= i\n",
    "  resp = make_query('fiveb', 'davidcash', ctext)\n",
    "  ctext[idx] ^= i # reset\n",
    "  if resp == b'true':\n",
    "    flag_byte = ctext[idx] ^ i ^ 1\n",
    "    print(i, flag_byte, bytes([flag_byte]))"
   ]
  },
  {
   "cell_type": "code",
   "execution_count": 23,
   "metadata": {},
   "outputs": [],
   "source": [
    "def get_flag_byte(ctext, idx):\n",
    "  flag_byte = None\n",
    "  for i in range(1, 256):\n",
    "    ctext[idx] ^= i\n",
    "    resp = make_query('fiveb', 'davidcash', ctext)\n",
    "    ctext[idx] ^= i # reset\n",
    "    if resp == b'true':\n",
    "      flag_byte = ctext[idx] ^ i ^ 1\n",
    "#       print(i, flag_byte, bytes([flag_byte]))\n",
    "      break\n",
    "  return flag_byte"
   ]
  },
  {
   "cell_type": "code",
   "execution_count": 13,
   "metadata": {},
   "outputs": [
    {
     "name": "stdout",
     "output_type": "stream",
     "text": [
      "[203, 75, 110, 209, 67]\n"
     ]
    }
   ],
   "source": [
    "print([c for c in ctext[27:32]])"
   ]
  },
  {
   "cell_type": "code",
   "execution_count": 14,
   "metadata": {},
   "outputs": [
    {
     "name": "stdout",
     "output_type": "stream",
     "text": [
      "73 2 75\n",
      "109 3 110\n",
      "213 4 209\n",
      "70 5 67\n",
      "[75, 110, 209, 67]\n"
     ]
    }
   ],
   "source": [
    "recovered = bytearray(28) + bytearray([73, 109, 213, 70])\n",
    "for i in range(4):\n",
    "  print(recovered[28 + i], ((i + 2) % 256), \n",
    "        recovered[28 + i] ^ ((i + 2) % 256))\n",
    "print([c for c in ctext[28:32]])"
   ]
  },
  {
   "cell_type": "code",
   "execution_count": 28,
   "metadata": {},
   "outputs": [],
   "source": [
    "def get_flag_byte(cnetid, ctext, idx):\n",
    "  flag_byte = None\n",
    "  for i in range(1, 256):\n",
    "    ctext[idx] ^= i\n",
    "    resp = make_query('fiveb', cnetid, ctext)\n",
    "    ctext[idx] ^= i # reset\n",
    "    if resp == b'true':\n",
    "      flag_byte = ctext[idx] ^ i ^ 1\n",
    "#       print(i, flag_byte, bytes([flag_byte]))\n",
    "      break\n",
    "  return flag_byte\n",
    "\n",
    "def set_ctext(ctext, recovered, start, end):\n",
    "  for i in range(end - start):\n",
    "    offset = start + i\n",
    "    byte = (i + 2) % 256 # wrap around\n",
    "#     print(recovered[offset] ^ byte)\n",
    "    ctext[offset] = recovered[offset] ^ byte"
   ]
  },
  {
   "cell_type": "code",
   "execution_count": 21,
   "metadata": {
    "scrolled": true
   },
   "outputs": [
    {
     "name": "stdout",
     "output_type": "stream",
     "text": [
      "[75, 110, 209, 67]\n"
     ]
    }
   ],
   "source": [
    "recovered = bytearray(28) + bytearray([73, 109, 213, 70])\n",
    "set_ctext(ctext, recovered, 28, 32)\n",
    "print([c for c in ctext[28:32]])"
   ]
  },
  {
   "cell_type": "code",
   "execution_count": 25,
   "metadata": {},
   "outputs": [
    {
     "name": "stdout",
     "output_type": "stream",
     "text": [
      "31 70 b'F'\n",
      "30 213 b'\\xd5'\n",
      "29 109 b'm'\n",
      "28 73 b'I'\n",
      "27 195 b'\\xc3'\n",
      "26 247 b'\\xf7'\n",
      "25 152 b'\\x98'\n",
      "24 222 b'\\xde'\n",
      "23 175 b'\\xaf'\n",
      "22 6 b'\\x06'\n",
      "21 18 b'\\x12'\n"
     ]
    },
    {
     "ename": "TypeError",
     "evalue": "'NoneType' object cannot be interpreted as an integer",
     "output_type": "error",
     "traceback": [
      "\u001b[0;31m---------------------------------------------------------------------------\u001b[0m",
      "\u001b[0;31mTypeError\u001b[0m                                 Traceback (most recent call last)",
      "\u001b[0;32m<ipython-input-25-542e68ed91e3>\u001b[0m in \u001b[0;36m<module>\u001b[0;34m\u001b[0m\n\u001b[1;32m      4\u001b[0m \u001b[0;32mfor\u001b[0m \u001b[0midx\u001b[0m \u001b[0;32min\u001b[0m \u001b[0mrange\u001b[0m\u001b[0;34m(\u001b[0m\u001b[0mlen_msg\u001b[0m \u001b[0;34m-\u001b[0m \u001b[0;36m1\u001b[0m\u001b[0;34m,\u001b[0m \u001b[0;34m-\u001b[0m\u001b[0;36m1\u001b[0m\u001b[0;34m,\u001b[0m \u001b[0;34m-\u001b[0m\u001b[0;36m1\u001b[0m\u001b[0;34m)\u001b[0m\u001b[0;34m:\u001b[0m\u001b[0;34m\u001b[0m\u001b[0m\n\u001b[1;32m      5\u001b[0m   \u001b[0mflag_byte\u001b[0m \u001b[0;34m=\u001b[0m \u001b[0mget_flag_byte\u001b[0m\u001b[0;34m(\u001b[0m\u001b[0mctext\u001b[0m\u001b[0;34m,\u001b[0m \u001b[0midx\u001b[0m\u001b[0;34m)\u001b[0m\u001b[0;34m\u001b[0m\u001b[0m\n\u001b[0;32m----> 6\u001b[0;31m   \u001b[0mprint\u001b[0m\u001b[0;34m(\u001b[0m\u001b[0midx\u001b[0m\u001b[0;34m,\u001b[0m \u001b[0mflag_byte\u001b[0m\u001b[0;34m,\u001b[0m \u001b[0mbytes\u001b[0m\u001b[0;34m(\u001b[0m\u001b[0;34m[\u001b[0m\u001b[0mflag_byte\u001b[0m\u001b[0;34m]\u001b[0m\u001b[0;34m)\u001b[0m\u001b[0;34m)\u001b[0m\u001b[0;34m\u001b[0m\u001b[0m\n\u001b[0m\u001b[1;32m      7\u001b[0m   \u001b[0mrecovered\u001b[0m\u001b[0;34m[\u001b[0m\u001b[0midx\u001b[0m\u001b[0;34m]\u001b[0m \u001b[0;34m=\u001b[0m \u001b[0mflag_byte\u001b[0m\u001b[0;34m\u001b[0m\u001b[0m\n\u001b[1;32m      8\u001b[0m   \u001b[0mset_ctext\u001b[0m\u001b[0;34m(\u001b[0m\u001b[0mctext\u001b[0m\u001b[0;34m,\u001b[0m \u001b[0mrecovered\u001b[0m\u001b[0;34m,\u001b[0m \u001b[0midx\u001b[0m\u001b[0;34m,\u001b[0m \u001b[0mlen_msg\u001b[0m\u001b[0;34m)\u001b[0m\u001b[0;34m\u001b[0m\u001b[0m\n",
      "\u001b[0;31mTypeError\u001b[0m: 'NoneType' object cannot be interpreted as an integer"
     ]
    }
   ],
   "source": [
    "ctext = bytearray(make_query('fivea', 'davidcash', ''))\n",
    "len_msg = len(ctext) - 16\n",
    "recovered = bytearray(len_msg)\n",
    "for idx in range(len_msg - 1, -1, -1):\n",
    "  flag_byte = get_flag_byte(ctext, idx)\n",
    "  print(idx, flag_byte, bytes([flag_byte]))\n",
    "  recovered[idx] = flag_byte\n",
    "  set_ctext(ctext, recovered, idx, len_msg)"
   ]
  },
  {
   "cell_type": "code",
   "execution_count": 26,
   "metadata": {
    "scrolled": true
   },
   "outputs": [
    {
     "name": "stdout",
     "output_type": "stream",
     "text": [
      "15 88 b'X'\n",
      "14 67 b'C'\n",
      "13 67 b'C'\n",
      "12 84 b'T'\n",
      "11 69 b'E'\n",
      "10 17 b'\\x11'\n",
      "9 66 b'B'\n",
      "8 88 b'X'\n",
      "7 17 b'\\x11'\n",
      "6 112 b'p'\n",
      "5 98 b'b'\n",
      "4 127 b'\\x7f'\n",
      "3 17 b'\\x11'\n",
      "2 84 b'T'\n",
      "1 89 b'Y'\n",
      "0 101 b'e'\n"
     ]
    }
   ],
   "source": [
    "ctext = bytearray(make_query('fivea', 'davidcash', ''))\n",
    "ctext = ctext[:-16]\n",
    "len_msg = len(ctext) - 16\n",
    "recovered = bytearray(len_msg)\n",
    "for idx in range(len_msg - 1, -1, -1):\n",
    "  flag_byte = get_flag_byte(ctext, idx)\n",
    "  print(idx, flag_byte, bytes([flag_byte]))\n",
    "  recovered[idx] = flag_byte\n",
    "  set_ctext(ctext, recovered, idx, len_msg)"
   ]
  },
  {
   "cell_type": "code",
   "execution_count": 27,
   "metadata": {
    "scrolled": true
   },
   "outputs": [
    {
     "data": {
      "text/plain": [
       "bytearray(b'eYT\\x11\\x7fbp\\x11XB\\x11ETCCX')"
      ]
     },
     "execution_count": 27,
     "metadata": {},
     "output_type": "execute_result"
    }
   ],
   "source": [
    "recovered"
   ]
  },
  {
   "cell_type": "code",
   "execution_count": 29,
   "metadata": {
    "scrolled": true
   },
   "outputs": [
    {
     "name": "stdout",
     "output_type": "stream",
     "text": [
      "15 117 b'u'\n",
      "14 17 b'\\x11'\n",
      "13 66 b'B'\n",
      "12 95 b'_'\n",
      "11 80 b'P'\n",
      "10 67 b'C'\n",
      "9 84 b'T'\n",
      "8 69 b'E'\n",
      "7 84 b'T'\n",
      "6 103 b'g'\n",
      "5 17 b'\\x11'\n",
      "4 72 b'H'\n",
      "3 65 b'A'\n",
      "2 65 b'A'\n",
      "1 80 b'P'\n",
      "0 121 b'y'\n"
     ]
    }
   ],
   "source": [
    "cnetid = 'ruolinzheng'\n",
    "ctext = bytearray(make_query('fivea', cnetid, ''))\n",
    "ctext = ctext[:-16]\n",
    "len_msg = len(ctext) - 16\n",
    "recovered = bytearray(len_msg)\n",
    "for idx in range(len_msg - 1, -1, -1):\n",
    "  flag_byte = get_flag_byte(cnetid, ctext, idx)\n",
    "  print(idx, flag_byte, bytes([flag_byte]))\n",
    "  recovered[idx] = flag_byte\n",
    "  set_ctext(ctext, recovered, idx, len_msg)"
   ]
  }
 ],
 "metadata": {
  "kernelspec": {
   "display_name": "Python 3",
   "language": "python",
   "name": "python3"
  },
  "language_info": {
   "codemirror_mode": {
    "name": "ipython",
    "version": 3
   },
   "file_extension": ".py",
   "mimetype": "text/x-python",
   "name": "python",
   "nbconvert_exporter": "python",
   "pygments_lexer": "ipython3",
   "version": "3.7.0"
  }
 },
 "nbformat": 4,
 "nbformat_minor": 2
}
